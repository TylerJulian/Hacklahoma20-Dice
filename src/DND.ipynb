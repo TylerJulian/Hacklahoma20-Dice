{
 "cells": [
  {
   "cell_type": "code",
   "execution_count": 8,
   "metadata": {},
   "outputs": [
    {
     "name": "stdout",
     "output_type": "stream",
     "text": [
      "15\n",
      "****\n"
     ]
    }
   ],
   "source": []
  },
  {
   "cell_type": "code",
   "execution_count": 10,
   "metadata": {},
   "outputs": [
    {
     "name": "stdout",
     "output_type": "stream",
     "text": [
      "5\n",
      "****\n"
     ]
    },
    {
     "ename": "TypeError",
     "evalue": "list indices must be integers or slices, not cv2.KeyPoint",
     "output_type": "error",
     "traceback": [
      "\u001b[1;31m---------------------------------------------------------------------------\u001b[0m",
      "\u001b[1;31mTypeError\u001b[0m                                 Traceback (most recent call last)",
      "\u001b[1;32m<ipython-input-10-67b8e7ac0f86>\u001b[0m in \u001b[0;36m<module>\u001b[1;34m\u001b[0m\n\u001b[0;32m     75\u001b[0m             \u001b[1;32mfor\u001b[0m \u001b[0mx\u001b[0m \u001b[1;32min\u001b[0m \u001b[0mkeypoints\u001b[0m\u001b[1;33m:\u001b[0m\u001b[1;33m\u001b[0m\u001b[1;33m\u001b[0m\u001b[0m\n\u001b[0;32m     76\u001b[0m \u001b[1;33m\u001b[0m\u001b[0m\n\u001b[1;32m---> 77\u001b[1;33m                 \u001b[0mx0\u001b[0m \u001b[1;33m=\u001b[0m \u001b[0mstr\u001b[0m\u001b[1;33m(\u001b[0m\u001b[0mkeypoints\u001b[0m\u001b[1;33m[\u001b[0m\u001b[0mx\u001b[0m\u001b[1;33m]\u001b[0m\u001b[1;33m.\u001b[0m\u001b[0mpt\u001b[0m\u001b[1;33m[\u001b[0m\u001b[1;36m0\u001b[0m\u001b[1;33m]\u001b[0m\u001b[1;33m)\u001b[0m\u001b[1;33m\u001b[0m\u001b[1;33m\u001b[0m\u001b[0m\n\u001b[0m\u001b[0;32m     78\u001b[0m                 \u001b[0my0\u001b[0m \u001b[1;33m=\u001b[0m \u001b[0mstr\u001b[0m\u001b[1;33m(\u001b[0m\u001b[0mkeypoints\u001b[0m\u001b[1;33m[\u001b[0m\u001b[0mx\u001b[0m\u001b[1;33m]\u001b[0m\u001b[1;33m.\u001b[0m\u001b[0mpt\u001b[0m\u001b[1;33m[\u001b[0m\u001b[1;36m1\u001b[0m\u001b[1;33m]\u001b[0m\u001b[1;33m)\u001b[0m\u001b[1;33m\u001b[0m\u001b[1;33m\u001b[0m\u001b[0m\n\u001b[0;32m     79\u001b[0m                 \u001b[1;32mif\u001b[0m \u001b[0mdiceTotal\u001b[0m \u001b[1;33m>\u001b[0m \u001b[1;36m0\u001b[0m\u001b[1;33m:\u001b[0m\u001b[1;33m\u001b[0m\u001b[1;33m\u001b[0m\u001b[0m\n",
      "\u001b[1;31mTypeError\u001b[0m: list indices must be integers or slices, not cv2.KeyPoint"
     ]
    }
   ],
   "source": [
    "import cv2\n",
    "import numpy as np\n",
    " \n",
    "min_threshold = 10                      # these values are used to filter our detector.\n",
    "max_threshold = 200                     # they can be tweaked depending on the camera distance, camera angle, ...\n",
    "min_area = 100                          # ... focus, brightness, etc.\n",
    "min_circularity = .3\n",
    "min_inertia_ratio = .5\n",
    " \n",
    "cap = cv2.VideoCapture(0)               # '0' is the webcam's ID. usually it is 0 or 1. 'cap' is the video object.\n",
    "cap.set(15, -4)                         # '15' references video's brightness. '-4' sets the brightness.\n",
    " \n",
    "counter = 0                             # script will use a counter to handle FPS.\n",
    "readings = [0, 0]                       # lists are used to track the number of pips.\n",
    "display = [0, 0]\n",
    "\n",
    "keyPointCoord = []\n",
    "   \n",
    "while True:\n",
    "    if counter >= 90000:                # set maximum sizes for variables and lists to save memory.\n",
    "        counter = 0\n",
    "        readings = [0, 0]\n",
    "        display = [0, 0]\n",
    " \n",
    "    ret, im = cap.read()   \n",
    "    grayFrame = cv2.cvtColor(im, cv2.COLOR_BGR2GRAY)\n",
    "    grayFrame = cv2.cvtColor(grayFrame, cv2.COLOR_GRAY2BGR)\n",
    "    im = grayFrame\n",
    "    \n",
    "    # im = cv2.equalizeHist(grayFrame)\n",
    "    #grayFrame = cv2.adaptiveThreshold(grayFrame,255,cv2.ADAPTIVE_THRESH_GAUSSIAN_C,cv2.THRESH_BINARY,11,2)\n",
    "    ret, im = cv2.threshold(grayFrame,115,255,cv2.THRESH_BINARY)\n",
    "    # edge detect\n",
    "    #im = cv2.Canny(thr,100,200) # 'im' will be a frame from the video.\n",
    "   \n",
    "\n",
    "\n",
    "    params = cv2.SimpleBlobDetector_Params()                \n",
    "    # declare filter parameters.\n",
    "    params.filterByArea = True\n",
    "    params.filterByCircularity = True\n",
    "    params.filterByInertia = True\n",
    "    params.minThreshold = min_threshold\n",
    "    params.maxThreshold = max_threshold\n",
    "    params.minArea = min_area\n",
    "    params.minCircularity = min_circularity\n",
    "    params.minInertiaRatio = min_inertia_ratio\n",
    "    #Very generic params\n",
    " \n",
    "    detector = cv2.SimpleBlobDetector_create(params)        # create a blob detector \n",
    "    keypoints = detector.detect(im)                         # keypoints is a list containing the blobs.\n",
    "    #array of dice Coords \n",
    "    # here we draw keypoints on the frame.\n",
    "    im_with_keypoints = cv2.drawKeypoints(im, keypoints, np.array([]), (0, 0, 255), cv2.DRAW_MATCHES_FLAGS_DRAW_RICH_KEYPOINTS)\n",
    " \n",
    "    cv2.imshow(\"Dice Reader\", im_with_keypoints)            # display the frame with keypoints added.\n",
    "   \n",
    "    reading = len(keypoints)                                # 'reading' is the number of blobs/pips\n",
    " \n",
    "    if counter % 10 == 0:                                   # creates a \n",
    "        readings.append(reading)                            # note the reading from this frame.\n",
    " \n",
    "        if readings[-1] == readings[-2] == readings[-3]:    # if the last 3 readings are the same...\n",
    "            display.append(readings[-1])                    # ... then we have a valid reading.\n",
    " \n",
    "        # if the most recent valid reading has changed, and it's something other than zero, then print it.\n",
    "        if display[-1] != display[-2] and display[-1] != 0:\n",
    "            msg = str(display[-1]) + \"\\n****\"\n",
    "            print(msg)\n",
    "            \n",
    "            keyPointCoord = []\n",
    "            diceTotal = 0\n",
    "                \n",
    "            \n",
    "            for x in keypoints:\n",
    "                    \n",
    "                x0 = str(keypoints[x].pt[0])\n",
    "                y0 = str(keypoints[x].pt[1])\n",
    "                if diceTotal > 0:\n",
    "                    print(\"test\")\n",
    "                    print(keyPointCoord[x][0])\n",
    "                    if abs(keyPointCoord[x][0] - x0) < 10 or abs(keyPointCoord[x][1] - y0) < 10:\n",
    "                        print(\"test\")\n",
    "                        pass\n",
    "                keyPointCoord.append([x0,y0])\n",
    "                diceTotal = diceTotal + 1\n",
    "                    \n",
    "        \n",
    "                for x in keyPointCoord:\n",
    "                    #msg = \"x: \" + str(keyPointCoord[x][0]) + \"y: \" + str(keyPointCoord[x][1]) + \"\\n\\n\"\n",
    "                    #msg = \"x: \" + str(x[0]) + \"y: \" + str(x[1]) + \"\\n\\n\"\n",
    "                    #print(fuck)\n",
    "                    print(x)\n",
    "                print(\"total dice: \" + str(diceTotal) + \"\\n\")\n",
    "                pass\n",
    "            \n",
    "            #cv2.PutText(im_with_keypoints, str(msg), (45,45), cv2.FONT_HERSHEY_SIMPLEX, (0,0,255))\n",
    " \n",
    "    counter += 1\n",
    " \n",
    "    k = cv2.waitKey(30) & 0xff                              # press [Esc] to exit.\n",
    "    if k == 27:\n",
    "        break\n",
    "  \n",
    "cv2.destroyAllWindows() "
   ]
  },
  {
   "cell_type": "code",
   "execution_count": null,
   "metadata": {},
   "outputs": [],
   "source": []
  },
  {
   "cell_type": "code",
   "execution_count": null,
   "metadata": {},
   "outputs": [],
   "source": []
  },
  {
   "cell_type": "code",
   "execution_count": null,
   "metadata": {},
   "outputs": [],
   "source": []
  }
 ],
 "metadata": {
  "kernelspec": {
   "display_name": "Python 3",
   "language": "python",
   "name": "python3"
  },
  "language_info": {
   "codemirror_mode": {
    "name": "ipython",
    "version": 3
   },
   "file_extension": ".py",
   "mimetype": "text/x-python",
   "name": "python",
   "nbconvert_exporter": "python",
   "pygments_lexer": "ipython3",
   "version": "3.7.4"
  }
 },
 "nbformat": 4,
 "nbformat_minor": 4
}
